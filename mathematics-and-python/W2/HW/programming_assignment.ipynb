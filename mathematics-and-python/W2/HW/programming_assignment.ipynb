{
 "cells": [
  {
   "cell_type": "markdown",
   "metadata": {},
   "source": [
    "# Задача 1: сравнение предложений"
   ]
  },
  {
   "cell_type": "code",
   "execution_count": 70,
   "metadata": {
    "collapsed": false
   },
   "outputs": [],
   "source": [
    "from sklearn.feature_extraction.text import CountVectorizer\n",
    "\n",
    "# считывание предложений\n",
    "sentences = [sentence for sentence in open('sentences.txt')]\n",
    "\n",
    "# приведение к нижнему регистру, токенизация\n",
    "vectorizer = CountVectorizer(analyzer = 'word', token_pattern = r'[a-z]+', lowercase=True)\n",
    "\n",
    "# мешок слов, матрица размера n * d\n",
    "bow = vectorizer.fit_transform(sentences).todense()\n",
    "\n",
    "# dictionary, каждому слову сопоставлен индекс\n",
    "vocabulary = vectorizer.vocabulary_"
   ]
  },
  {
   "cell_type": "code",
   "execution_count": 72,
   "metadata": {
    "collapsed": false
   },
   "outputs": [
    {
     "name": "stdout",
     "output_type": "stream",
     "text": [
      "{u'osx': 147, u'selection': 183, u'they': 214, u'just': 102, u'developed': 50, u'over': 150, u'vermin': 234, u'domestic': 55, u'major': 117, u'installed': 93, u'symbols': 206, u'through': 217, u'human': 87, u'during': 60, u'disk': 52, u'its': 100, u'fifth': 72, u'apple': 12, u'tamed': 208, u'upgrade': 229, u'lb': 106, u'computers': 39, u'to': 220, u'version': 235, u'deliberately': 49, u'marks': 118, u'has': 82, u'arguments': 14, u'predecessor': 160, u'non': 133, u'adjacent': 2, u'read': 165, u'made': 116, u'every': 66, u'safari': 180, u'not': 134, u'world': 248, u'now': 135, u'people': 153, u'possess': 158, u'intel': 96, u'keyboards': 103, u'command': 34, u'bytes': 25, u'unnecessary': 227, u'patch': 152, u'predators': 159, u'small': 191, u'output': 149, u'entirely': 64, u'where': 241, u'stdin': 198, u'ears': 61, u'concatenate': 40, u'right': 175, u'often': 140, u'wrong': 249, u'sequence': 185, u'some': 193, u'lion': 113, u'frequency': 78, u'displays': 53, u'year': 251, u'download': 58, u'run': 177, u'firmware': 75, u'organisms': 145, u'concern': 41, u'for': 77, u'pipes': 156, u'since': 188, u'factory': 68, u'artificial': 15, u'content': 44, u'won': 247, u'between': 21, u'kg': 104, u'new': 131, u'learned': 107, u'piped': 155, u'common': 36, u'available': 17, u'be': 20, u'terms': 209, u'genes': 80, u'undergone': 225, u'standard': 195, u'release': 171, u'were': 239, u'diploid': 51, u'members': 121, u'x': 250, u'based': 18, u'safer': 181, u'by': 24, u'on': 141, u'commands': 35, u'weighing': 238, u'installs': 94, u'of': 137, u'needing': 130, u'allows': 4, u'according': 1, u's': 179, u'streams': 201, u'receives': 167, u'successor': 202, u'catenates': 28, u'os': 146, u'or': 144, u'and': 8, u'named': 128, u'contains': 43, u'useful': 232, u'features': 70, u'app': 11, u'mice': 122, u'community': 37, u'one': 142, u'running': 178, u'unix': 226, u'simply': 187, u'linux': 112, u'sounds': 194, u'size': 190, u'use': 230, u'delete': 48, u'from': 79, u'enhancements': 63, u'redirection': 170, u'create': 46, u'faint': 69, u'three': 216, u't': 207, u'their': 213, u'however': 86, u'cats': 29, u'too': 221, u'basic': 19, u'permanently': 154, u'type': 223, u'dogs': 54, u'store': 200, u'more': 124, u'files': 74, u'releases': 173, u'both': 23, u'started': 196, u'offered': 139, u'releasing': 174, u'tiger': 218, u'released': 172, u'part': 151, u'hear': 84, u'external': 67, u'editions': 62, u'installation': 92, u'july': 101, u'with': 245, u'than': 210, u'those': 215, u'count': 45, u'october': 136, u'animals': 9, u'mavericks': 119, u'versions': 236, u'default': 47, u'was': 237, u'typically': 224, u'second': 182, u'cat': 27, u'will': 244, u'information': 91, u'can': 26, u'error': 65, u'wild': 243, u'similar': 186, u'are': 13, u'felis': 71, u'interactive': 97, u'file': 73, u'stdout': 199, u'process': 161, u'flow': 76, u'is': 98, u'received': 166, u'moved': 127, u'it': 99, u'an': 6, u'high': 85, u'single': 189, u'incremental': 90, u'have': 83, u'in': 89, u'need': 129, u'domesticated': 56, u'any': 10, u'as': 16, u'if': 88, u'mountain': 126, u'processors': 162, u'no': 132, u'rather': 164, u'legibility': 109, u'separate': 184, u'that': 211, u'when': 240, u'mid': 123, u'also': 5, u'other': 148, u'domestication': 57, u'which': 242, u'online': 143, u'instead': 95, u'you': 253, u'ancestor': 7, u'used': 231, u'chromosomes': 31, u'closest': 33, u'binary': 22, u'may': 120, u'symbol': 205, u'leopard': 110, u'update': 228, u'most': 125, u'mac': 115, u'connected': 42, u'two': 222, u'yosemite': 252, u'such': 203, u'comparison': 38, u'recent': 168, u'a': 0, u'purchase': 163, u'genus': 81, u'off': 138, u'longer': 114, u'using': 233, u'changes': 30, u'clear': 32, u'later': 105, u'lines': 111, u'drive': 59, u'switch': 204, u'without': 246, u'so': 192, u'place': 157, u'allow': 3, u'time': 219, u'redirected': 169, u'the': 212, u'roughly': 176, u'starting': 197, u'left': 108}\n"
     ]
    }
   ],
   "source": [
    "print vocabulary"
   ]
  },
  {
   "cell_type": "code",
   "execution_count": 76,
   "metadata": {
    "collapsed": false
   },
   "outputs": [
    {
     "name": "stdout",
     "output_type": "stream",
     "text": [
      "[[0 0 0 ..., 0 0 0]\n",
      " [0 0 0 ..., 0 0 0]\n",
      " [3 0 0 ..., 0 0 0]\n",
      " ..., \n",
      " [1 0 0 ..., 0 0 0]\n",
      " [1 0 0 ..., 0 0 1]\n",
      " [1 0 0 ..., 0 0 0]]\n",
      "(22L, 254L)\n"
     ]
    }
   ],
   "source": [
    "# матрица размера 22 * 254\n",
    "print bow\n",
    "print bow.shape"
   ]
  },
  {
   "cell_type": "code",
   "execution_count": 97,
   "metadata": {
    "collapsed": false
   },
   "outputs": [
    {
     "name": "stdout",
     "output_type": "stream",
     "text": [
      "6 4\n"
     ]
    }
   ],
   "source": [
    "from scipy.spatial.distance import cosine\n",
    "\n",
    "cosine_distances = [(i, cosine(bow[0], bow[i])) for i in range(len(sentences))]\n",
    "\n",
    "sorted_distances = sorted(distances, key=lambda tup: tup[1])\n",
    "\n",
    "# два предложения, ближайших к первому по косинусному расстоянию\n",
    "print sorted_distances[1][0], sorted_distances[2][0]"
   ]
  },
  {
   "cell_type": "markdown",
   "metadata": {},
   "source": [
    "# Задача 2: аппроксимация функции"
   ]
  },
  {
   "cell_type": "code",
   "execution_count": 117,
   "metadata": {
    "collapsed": false
   },
   "outputs": [
    {
     "name": "stdout",
     "output_type": "stream",
     "text": [
      "4.36 -1.3 0.19 -0.01\n"
     ]
    }
   ],
   "source": [
    "from scipy.linalg import solve\n",
    "from numpy import sin, exp\n",
    "\n",
    "f = lambda x: sin(x / 5.0) * exp(x / 10.0) + 5.0 * exp(-x / 2.0)\n",
    "\n",
    "rank = 3\n",
    "A = [\n",
    "    [1 ** n for n in range(0, rank + 1)],\n",
    "    [4 ** n for n in range(0, rank + 1)],\n",
    "    [10 ** n for n in range(0, rank + 1)],\n",
    "    [15 ** n for n in range(0, rank + 1)]\n",
    "]\n",
    "\n",
    "b = [f(1), f(4), f(10), f(15)]\n",
    "\n",
    "answer = solve(A, b)\n",
    "print ' '.join(str(x.round(2)) for x in answer) "
   ]
  }
 ],
 "metadata": {
  "kernelspec": {
   "display_name": "Python [Anaconda]",
   "language": "python",
   "name": "Python [Anaconda]"
  },
  "language_info": {
   "codemirror_mode": {
    "name": "ipython",
    "version": 2
   },
   "file_extension": ".py",
   "mimetype": "text/x-python",
   "name": "python",
   "nbconvert_exporter": "python",
   "pygments_lexer": "ipython2",
   "version": "2.7.12"
  }
 },
 "nbformat": 4,
 "nbformat_minor": 0
}
